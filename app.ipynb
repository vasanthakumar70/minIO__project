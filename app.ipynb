{
 "cells": [
  {
   "cell_type": "code",
   "execution_count": 1,
   "metadata": {},
   "outputs": [],
   "source": [
    "\n",
    "from pyspark.sql import SparkSession\n",
    "import os"
   ]
  },
  {
   "cell_type": "code",
   "execution_count": 2,
   "metadata": {},
   "outputs": [],
   "source": [
    "access_key = os.getenv(\"access_key\")\n",
    "secret_key = os.getenv(\"secret_key\")"
   ]
  },
  {
   "cell_type": "code",
   "execution_count": 3,
   "metadata": {},
   "outputs": [],
   "source": [
    "spark = SparkSession.builder \\\n",
    "    .appName(\"MinIO reader\") \\\n",
    "    .config(\"spark.hadoop.fs.s3a.endpoint\", \"http://localhost:32768\") \\\n",
    "    .config(\"spark.hadoop.fs.s3a.access.key\", access_key) \\\n",
    "    .config(\"spark.hadoop.fs.s3a.secret.key\", secret_key) \\\n",
    "    .config(\"spark.hadoop.fs.s3a.connection.maximum\", \"1000\") \\\n",
    "    .config(\"spark.hadoop.fs.s3a.path.style.access\", \"true\") \\\n",
    "    .config(\"spark.hadoop.fs.s3a.ssl.enabled\", \"false\") \\\n",
    "    .config(\"spark.hadoop.fs.s3a.impl\", \"org.apache.hadoop.fs.s3a.S3AFileSystem\")\\\n",
    "    .config(\"spark.jars\", \"hadoop-aws-3.3.1.jar,aws-java-sdk-bundle-1.11.901.jar,hadoop-common-3.3.1.jar\") \\\n",
    "    .config(\"spark.hadoop.fs.s3a.aws.credentials.provider\", \"org.apache.hadoop.fs.s3a.SimpleAWSCredentialsProvider\") \\\n",
    "    .getOrCreate()\n"
   ]
  },
  {
   "cell_type": "code",
   "execution_count": 4,
   "metadata": {},
   "outputs": [],
   "source": [
    "raw_event = spark.read.format(\"csv\").option(\"header\", \"true\").option(\"inferSchema\",\"true\").option(\"nullvalue\",\"nan\").load(\"s3a://onedata/raw/event.csv\")\n",
    "raw_care_reception = spark.read.format(\"csv\").option(\"header\", \"true\").option(\"inferSchema\",\"true\").load(\"s3a://onedata/raw/care_reception.csv\")\n",
    "raw_participation = spark.read.format(\"csv\").option(\"header\", \"true\").option(\"inferSchema\",\"true\").load(\"s3a://onedata/raw/participation.csv\")\n",
    "raw_patients = spark.read.format(\"csv\").option(\"header\", \"true\").option(\"inferSchema\",\"true\").load(\"s3a://onedata/raw/patients.csv\")\n",
    "\n",
    "raw_event=raw_event.dropDuplicates()\n",
    "raw_care_reception=raw_care_reception.dropDuplicates()\n",
    "raw_participation=raw_participation.dropDuplicates([\"id\",\"event_id\"])\n",
    "raw_patients=raw_patients.dropDuplicates([\"id\"])"
   ]
  },
  {
   "cell_type": "code",
   "execution_count": 22,
   "metadata": {},
   "outputs": [],
   "source": [
    "from pyspark.sql.functions import col ,to_timestamp,split,when,concat,lit,count\n"
   ]
  },
  {
   "cell_type": "code",
   "execution_count": 6,
   "metadata": {},
   "outputs": [],
   "source": [
    "columnstoadd={\n",
    "    \"frequency\":split(col(\"recurrence\")[0],\"=\")[1],\n",
    "    \"untill\":to_timestamp(split(col(\"recurrence\")[1],\"=\")[1],\"yyyyMMdd'T'HHmmss'Z'\"),\n",
    "    \"interval\":split(col(\"recurrence\")[2],\"=\")[1],\n",
    "    \"by_day\":split(col(\"recurrence\")[3],\"=\")[1],\n",
    "}"
   ]
  },
  {
   "cell_type": "code",
   "execution_count": 7,
   "metadata": {},
   "outputs": [],
   "source": [
    "processed_event=raw_event\\\n",
    "    .withColumn(\"recurrence\",split(\"recurrence\",';'))\\\n",
    "    .withColumns(columnstoadd)\\\n",
    "    .select(\"id\", \"title\", to_timestamp(\"start\").alias(\"start\"), \"end\",\"frequency\",\"untill\",\"interval\",\"by_day\",col(\"created_at\").alias(\"created_at_event\"))\n"
   ]
  },
  {
   "cell_type": "code",
   "execution_count": 8,
   "metadata": {},
   "outputs": [],
   "source": [
    "processed_patients=raw_patients\\\n",
    "    .withColumn(\"marital_status\",when(col(\"marital_status\")==0.0,False).when(col(\"marital_status\")==1.0,True))\\\n",
    "    .withColumn(\"fullName\",concat(col(\"first_name\"),lit(\" \"),col(\"last_name\")))\\\n",
    "    .select(\"id\",\"fullName\",\"gender\",\"date_of_birth\",\"email11\",\"organ_donner\",\"blood_donner\",\"marital_status\",col(\"created_at\").alias(\"created_at_patients\"))\n",
    "\n"
   ]
  },
  {
   "cell_type": "code",
   "execution_count": 10,
   "metadata": {},
   "outputs": [],
   "source": [
    "processed_care_reception=raw_care_reception\\\n",
    "    .select(\"participation_id\",col(\"patient_id\").cast(\"int\"),\"message\",\"meeting_status\",\"patient_attendant_name\",\"patient_attendant_phone_number\",\"cancellation_reason\")  "
   ]
  },
  {
   "cell_type": "code",
   "execution_count": 11,
   "metadata": {},
   "outputs": [],
   "source": [
    "processed_participation=raw_participation\\\n",
    "    .select(col(\"id\").alias(\"participation_id\"),\"event_id\",col(\"created_at\").alias(\"created_at_participation\"))   "
   ]
  },
  {
   "cell_type": "code",
   "execution_count": 12,
   "metadata": {},
   "outputs": [],
   "source": [
    "processed_event.write.format(\"parquet\") \\\n",
    "    .mode(\"overwrite\") \\\n",
    "    .save(\"s3a://onedata/processed/event\")\n",
    "\n",
    "processed_patients.write.format(\"parquet\")\\\n",
    "    .mode(\"overwrite\")\\\n",
    "    .save(\"s3a://onedata/processed/patients\")   \n",
    "\n",
    "processed_care_reception.write.format(\"parquet\")\\\n",
    "    .mode(\"overwrite\")\\\n",
    "    .save(\"s3a://onedata/processed/care_reception\")\n",
    "\n",
    "processed_participation.write.format(\"parquet\")\\\n",
    "    .mode(\"overwrite\")\\\n",
    "    .save(\"s3a://onedata/processed/participation\")\n"
   ]
  },
  {
   "cell_type": "code",
   "execution_count": 13,
   "metadata": {},
   "outputs": [],
   "source": [
    "joined_event_participation=processed_participation.alias(\"participation\")\\\n",
    "    .join(processed_event.alias(\"event\"),col(\"participation.event_id\")==col(\"event.id\"),\"inner\")\\\n",
    "    .drop(processed_event['id'])\n",
    "\n",
    "    "
   ]
  },
  {
   "cell_type": "code",
   "execution_count": 14,
   "metadata": {},
   "outputs": [
    {
     "name": "stdout",
     "output_type": "stream",
     "text": [
      "+----------------+--------+--------------------------+---------+-----------------------+-----------------------+---------+-------------------+--------+--------------------+--------------------------+\n",
      "|participation_id|event_id|created_at_participation  |title    |start                  |end                    |frequency|untill             |interval|by_day              |created_at_event          |\n",
      "+----------------+--------+--------------------------+---------+-----------------------+-----------------------+---------+-------------------+--------+--------------------+--------------------------+\n",
      "|1709            |1335    |2024-10-21 16:52:31.379277|Test     |2024-10-21 19:15:00    |2024-10-21 19:30:00    |DAILY    |2024-12-31 04:30:00|1       |SU,TU,MO,WE,FR,TH,SA|2024-10-21 16:52:31.218149|\n",
      "|1702            |1328    |2024-10-21 16:52:31.267422|Test     |2024-10-21 17:30:00    |2024-10-21 17:45:00    |DAILY    |2024-12-31 04:30:00|1       |SU,TU,MO,WE,FR,TH,SA|2024-10-21 16:52:31.218149|\n",
      "|1788            |1414    |2024-10-21 17:02:35.024207|Test     |2024-10-21 18:00:00    |2024-10-21 18:15:00    |null     |null               |null    |null                |2024-10-21 17:02:34.973578|\n",
      "|1802            |1428    |2024-10-21 17:02:35.158267|Test     |2024-10-21 21:30:00    |2024-10-21 21:45:00    |null     |null               |null    |null                |2024-10-21 17:02:34.973578|\n",
      "|2164            |1729    |2024-10-22 10:29:52.55692 |Test     |2024-10-26 17:00:00    |2024-10-26 17:30:00    |null     |null               |null    |null                |2024-10-21 16:53:21.807253|\n",
      "|2163            |1729    |2024-10-22 10:29:52.291815|Test     |2024-10-26 17:00:00    |2024-10-26 17:30:00    |null     |null               |null    |null                |2024-10-21 16:53:21.807253|\n",
      "|2229            |1788    |2024-10-22 10:38:10.705544|Test     |2024-10-22 19:10:00    |2024-10-22 19:25:00    |DAILY    |2024-12-31 04:30:00|1       |null                |2024-10-22 10:38:10.342687|\n",
      "|4886            |3807    |2024-10-24 18:14:23.96134 |WALKINS  |2024-10-24 18:15:22.655|2024-10-24 18:44:22.655|null     |null               |null    |null                |2024-10-24 18:14:22.910463|\n",
      "|4885            |3807    |2024-10-24 18:14:23.629568|WALKINS  |2024-10-24 18:15:22.655|2024-10-24 18:44:22.655|null     |null               |null    |null                |2024-10-24 18:14:22.910463|\n",
      "|4978            |3867    |2024-10-25 09:41:34.74173 |WALKINS  |2024-10-25 09:42:33.27 |2024-10-25 10:11:33.27 |null     |null               |null    |null                |2024-10-25 09:41:33.320002|\n",
      "|4977            |3867    |2024-10-25 09:41:34.43654 |WALKINS  |2024-10-25 09:42:33.27 |2024-10-25 10:11:33.27 |null     |null               |null    |null                |2024-10-25 09:41:33.320002|\n",
      "|5065            |3948    |2024-10-25 10:48:50.408613|WALKINS  |2024-10-25 10:49:48.752|2024-10-25 11:18:48.752|null     |null               |null    |null                |2024-10-25 10:48:49.697171|\n",
      "|5066            |3948    |2024-10-25 10:48:50.721734|WALKINS  |2024-10-25 10:49:48.752|2024-10-25 11:18:48.752|null     |null               |null    |null                |2024-10-25 10:48:49.697171|\n",
      "|5693            |4385    |2024-10-25 13:05:52.52781 |WALKINS  |2024-10-25 13:06:52.229|2024-10-25 13:35:52.229|null     |null               |null    |null                |2024-10-25 13:05:52.247056|\n",
      "|5694            |4385    |2024-10-25 13:05:53.239517|WALKINS  |2024-10-25 13:06:52.229|2024-10-25 13:35:52.229|null     |null               |null    |null                |2024-10-25 13:05:52.247056|\n",
      "|5779            |4441    |2024-10-25 13:26:18.227033|WALKINS  |2024-10-25 13:27:18.012|2024-10-25 13:56:18.012|null     |null               |null    |null                |2024-10-25 13:26:17.62561 |\n",
      "|5778            |4441    |2024-10-25 13:26:17.900837|WALKINS  |2024-10-25 13:27:18.012|2024-10-25 13:56:18.012|null     |null               |null    |null                |2024-10-25 13:26:17.62561 |\n",
      "|7952            |6494    |2024-10-26 15:23:06.125851|full time|2024-10-28 15:20:00    |2024-10-28 15:50:00    |null     |null               |null    |null                |2024-10-26 15:23:05.976476|\n",
      "|7960            |6502    |2024-10-26 15:23:06.208464|full time|2024-10-28 19:20:00    |2024-10-28 19:50:00    |null     |null               |null    |null                |2024-10-26 15:23:05.976476|\n",
      "|8351            |6898    |2024-10-26 17:25:24.987353|WALKINS  |2024-10-26 17:26:23.582|2024-10-26 17:55:23.582|null     |null               |null    |null                |2024-10-26 17:25:24.711575|\n",
      "+----------------+--------+--------------------------+---------+-----------------------+-----------------------+---------+-------------------+--------+--------------------+--------------------------+\n",
      "only showing top 20 rows\n",
      "\n"
     ]
    }
   ],
   "source": [
    "joined_event_participation.show(truncate=False)"
   ]
  },
  {
   "cell_type": "code",
   "execution_count": 15,
   "metadata": {},
   "outputs": [],
   "source": [
    "joined_reception_patents=processed_care_reception.alias(\"care_reception\")\\\n",
    ".join(processed_patients.alias(\"patients\"),col(\"care_reception.patient_id\")==col(\"patients.id\"),\"inner\")\\\n",
    ".drop(processed_patients['id'])\n"
   ]
  },
  {
   "cell_type": "code",
   "execution_count": 17,
   "metadata": {},
   "outputs": [],
   "source": [
    "final=joined_event_participation.alias(\"event\")\\\n",
    "    .join(joined_reception_patents.alias(\"care_reception\"),col(\"event.participation_id\")==col(\"care_reception.participation_id\"),\"inner\")\\\n",
    "    .drop(joined_reception_patents['participation_id'])\n",
    "\n"
   ]
  },
  {
   "cell_type": "code",
   "execution_count": 18,
   "metadata": {},
   "outputs": [
    {
     "name": "stdout",
     "output_type": "stream",
     "text": [
      "+----------------+--------+------------------------+-----------+--------------------+--------------------+---------+-------------------+--------+------+--------------------+----------+-------+--------------+----------------------+------------------------------+-------------------+----------------+------+-------------+-------+------------+------------+--------------+--------------------+\n",
      "|participation_id|event_id|created_at_participation|      title|               start|                 end|frequency|             untill|interval|by_day|    created_at_event|patient_id|message|meeting_status|patient_attendant_name|patient_attendant_phone_number|cancellation_reason|        fullName|gender|date_of_birth|email11|organ_donner|blood_donner|marital_status| created_at_patients|\n",
      "+----------------+--------+------------------------+-----------+--------------------+--------------------+---------+-------------------+--------+------+--------------------+----------+-------+--------------+----------------------+------------------------------+-------------------+----------------+------+-------------+-------+------------+------------+--------------+--------------------+\n",
      "|            2164|    1729|    2024-10-22 10:29:...|       Test| 2024-10-26 17:00:00| 2024-10-26 17:30:00|     null|               null|    null|  null|2024-10-21 16:53:...|       209|   null|         false|                  null|                          null|               null|  Jessica Sawyer|FEMALE|   2002-10-26|   null|       false|       false|         false|2024-10-22 09:59:...|\n",
      "|            5694|    4385|    2024-10-25 13:05:...|    WALKINS|2024-10-25 13:06:...|2024-10-25 13:35:...|     null|               null|    null|  null|2024-10-25 13:05:...|      1307|   null|         false|                  null|                          null|               null|   Kimberly Hall|  MALE|         null|   null|        null|        null|          null|2024-10-23 17:39:...|\n",
      "|            5779|    4441|    2024-10-25 13:26:...|    WALKINS|2024-10-25 13:27:...|2024-10-25 13:56:...|     null|               null|    null|  null|2024-10-25 13:26:...|      1319|   null|         false|                  null|                          null|               null|Alexander Guzman|  MALE|         null|   null|        null|        null|          null|2024-10-23 17:40:...|\n",
      "|            8352|    6898|    2024-10-26 17:25:...|    WALKINS|2024-10-26 17:26:...|2024-10-26 17:55:...|     null|               null|    null|  null|2024-10-26 17:25:...|      1421|   null|         false|                  null|                          null|               null|  Steven Elliott|  MALE|         null|   null|        null|        null|          null|2024-10-23 17:49:...|\n",
      "|            8485|    6988|    2024-10-28 10:52:...|    WALKINS|2024-10-28 10:53:...|2024-10-28 11:22:...|     null|               null|    null|  null|2024-10-28 10:52:...|      1343|   null|         false|                  null|                          null|               null|   Tonya Frazier|FEMALE|         null|   null|        null|        null|          null|2024-10-23 17:41:...|\n",
      "|           13228|   11731|    2024-10-30 11:48:...|    WALKINS|2024-10-30 12:28:...|2024-10-30 12:58:...|     null|               null|    null|  null|2024-10-30 11:41:...|      1535|   null|         false|                  null|                          null|               null|Loretta Sullivan|FEMALE|         null|   null|        null|        null|          null|2024-10-23 17:51:...|\n",
      "|           20550|   15519|    2024-11-05 13:50:...|       full| 2024-11-12 10:30:00| 2024-11-12 10:45:00|     null|               null|    null|  null|2024-11-05 13:01:...|      1226|   null|         false|                  null|                          null|               null|     Kayla Perez|FEMALE|         null|   null|        null|        null|          null|2024-10-23 17:37:...|\n",
      "|           20671|   16093|    2024-11-05 13:51:...| appoinment| 2024-11-15 08:15:00| 2024-11-15 08:30:00|     null|               null|    null|  null|2024-11-05 13:36:...|      1347|   null|         false|                  null|                          null|               null|        Jose Lee|  MALE|         null|   null|        null|        null|          null|2024-10-23 17:41:...|\n",
      "|           21299|   16289|    2024-11-05 14:20:...|appointment| 2024-11-08 18:30:00| 2024-11-08 19:00:00|     null|               null|    null|  null|2024-11-05 14:05:...|      1507|   null|         false|                  null|                          null|               null|     Lisa Malone|FEMALE|         null|   null|        null|        null|          null|2024-10-23 17:50:...|\n",
      "|           21932|   16722|    2024-11-05 15:19:...| appoinment| 2024-11-20 10:30:00| 2024-11-20 11:00:00|    DAILY|2024-11-21 04:30:00|       1|  null|2024-11-05 15:00:...|      1303|   null|         false|                  null|                          null|               null|    Lisa Beasley|FEMALE|         null|   null|        null|        null|          null|2024-10-23 17:39:...|\n",
      "|           22395|   16875|    2024-11-05 15:37:...|appointment| 2024-11-11 18:00:01| 2024-11-11 18:30:01|     null|               null|    null|  null|2024-11-05 15:32:...|      1537|   null|         false|                  null|                          null|               null|Samantha Schmidt|FEMALE|         null|   null|        null|        null|          null|2024-10-23 17:51:...|\n",
      "|           22411|   16891|    2024-11-05 15:37:...|appointment| 2024-11-11 10:30:02| 2024-11-11 11:00:02|     null|               null|    null|  null|2024-11-05 15:32:...|      1553|   null|         false|                  null|                          null|               null|Angelica Jackson|FEMALE|         null|   null|        null|        null|          null|2024-10-23 17:51:...|\n",
      "|           23010|   17293|    2024-11-05 16:54:...|    WALKINS|2024-11-06 00:05:...|2024-11-06 00:35:...|     null|               null|    null|  null|2024-11-05 16:45:...|      1538|   null|         false|                  null|                          null|               null|     Shane David|  MALE|         null|   null|        null|        null|          null|2024-10-23 17:51:...|\n",
      "|           25733|   19146|    2024-11-13 18:13:...| Appoinment| 2024-11-15 16:30:00| 2024-11-15 17:00:00|     null|               null|    null|  null|2024-11-13 17:13:...|      2320|   null|         false|                  null|                          null|               null|   Vimal Kapadia|  MALE|         null|   null|        null|        null|          null|2024-11-05 12:17:...|\n",
      "|           26203|   19436|    2024-11-15 12:10:...|       Full| 2024-11-16 11:30:00| 2024-11-16 12:00:00|     null|               null|    null|  null|2024-11-15 12:07:...|      2450|   null|         false|                  null|                          null|               null| Scott Rodriguez|  MALE|         null|   null|        null|        null|          null|2024-11-13 19:21:...|\n",
      "|           32380|   23224|    2024-11-29 11:17:...|       null| 2024-12-06 18:40:00| 2024-12-06 19:00:00|     null|               null|    null|  null|2024-11-25 17:17:...|       146|   null|         false|                  null|                          null|               null|  Barry Martinez|  MALE|   1990-01-10|   null|       false|       false|          true|2024-10-21 17:14:...|\n",
      "|            1898|    1510|    2024-10-21 18:06:...|       Test| 2024-10-24 20:00:00| 2024-10-24 20:30:00|     null|               null|    null|  null|2024-10-21 16:53:...|       161|   null|         false|                  null|                          null|               null|   Ryan Anderson|  MALE|   1980-01-02|   null|       false|        true|          true|2024-10-21 17:57:...|\n",
      "|            2439|    1990|    2024-10-22 11:04:...|    WALKINS|2024-10-22 11:05:...|2024-10-22 11:34:...|     null|               null|    null|  null|2024-10-22 11:04:...|       245|   null|         false|                  null|                          null|               null| Amanda Espinoza|FEMALE|   1995-10-02|   null|       false|       false|          true|2024-10-22 10:57:...|\n",
      "|            6297|    4856|    2024-10-25 16:44:...|    WALKINS|2024-10-25 16:45:...|2024-10-25 17:14:...|     null|               null|    null|  null|2024-10-25 16:44:...|      1165|   null|         false|                  null|                          null|               null|  Jennifer Lopez|FEMALE|         null|   null|        null|        null|          null|2024-10-23 16:59:...|\n",
      "|           13069|   11380|    2024-10-29 21:51:...|    WALKINS|2024-10-29 21:56:...|2024-10-29 22:26:...|     null|               null|    null|  null|2024-10-29 21:39:...|      1492|   null|         false|                  null|                          null|               null|     David Olson|  MALE|         null|   null|        null|        null|          null|2024-10-23 17:50:...|\n",
      "+----------------+--------+------------------------+-----------+--------------------+--------------------+---------+-------------------+--------+------+--------------------+----------+-------+--------------+----------------------+------------------------------+-------------------+----------------+------+-------------+-------+------------+------------+--------------+--------------------+\n",
      "only showing top 20 rows\n",
      "\n"
     ]
    }
   ],
   "source": [
    "final.show()"
   ]
  },
  {
   "cell_type": "code",
   "execution_count": 19,
   "metadata": {},
   "outputs": [],
   "source": [
    "final.write.format(\"parquet\")\\\n",
    "    .mode(\"overwrite\")\\\n",
    "    .save(\"s3a://onedata/final/unified\")"
   ]
  },
  {
   "cell_type": "code",
   "execution_count": 20,
   "metadata": {},
   "outputs": [
    {
     "name": "stdout",
     "output_type": "stream",
     "text": [
      "root\n",
      " |-- participation_id: integer (nullable = true)\n",
      " |-- event_id: integer (nullable = true)\n",
      " |-- created_at_participation: timestamp (nullable = true)\n",
      " |-- title: string (nullable = true)\n",
      " |-- start: timestamp (nullable = true)\n",
      " |-- end: timestamp (nullable = true)\n",
      " |-- frequency: string (nullable = true)\n",
      " |-- untill: timestamp (nullable = true)\n",
      " |-- interval: string (nullable = true)\n",
      " |-- by_day: string (nullable = true)\n",
      " |-- created_at_event: timestamp (nullable = true)\n",
      " |-- patient_id: integer (nullable = true)\n",
      " |-- message: string (nullable = true)\n",
      " |-- meeting_status: boolean (nullable = true)\n",
      " |-- patient_attendant_name: string (nullable = true)\n",
      " |-- patient_attendant_phone_number: string (nullable = true)\n",
      " |-- cancellation_reason: string (nullable = true)\n",
      " |-- fullName: string (nullable = true)\n",
      " |-- gender: string (nullable = true)\n",
      " |-- date_of_birth: date (nullable = true)\n",
      " |-- email11: string (nullable = true)\n",
      " |-- organ_donner: boolean (nullable = true)\n",
      " |-- blood_donner: boolean (nullable = true)\n",
      " |-- marital_status: boolean (nullable = true)\n",
      " |-- created_at_patients: timestamp (nullable = true)\n",
      "\n"
     ]
    }
   ],
   "source": [
    "final.printSchema()"
   ]
  },
  {
   "cell_type": "markdown",
   "metadata": {},
   "source": [
    "count of event the patients attents"
   ]
  },
  {
   "cell_type": "code",
   "execution_count": 26,
   "metadata": {},
   "outputs": [
    {
     "name": "stdout",
     "output_type": "stream",
     "text": [
      "+----------+----------------+---+\n",
      "|patient_id|        fullname|cnt|\n",
      "+----------+----------------+---+\n",
      "|       145|       Raj kumar| 30|\n",
      "|       148|    Rebecca Tran| 29|\n",
      "|       147|Janice Castaneda| 28|\n",
      "|       146|  Barry Martinez| 25|\n",
      "|       149|     Jeremy Ward| 22|\n",
      "|       153|  Kimberly Smith| 12|\n",
      "|      1300|   Penny Sanchez|  7|\n",
      "|      1298|   Daniel Moreno|  7|\n",
      "|      1299|Tiffany Campbell|  7|\n",
      "|      1208|      Amy Oliver|  7|\n",
      "|       174|     Mary Nguyen|  7|\n",
      "|      1337|   Matthew Boyle|  6|\n",
      "|      1212|  Tanya Anderson|  6|\n",
      "|      1213|   Aimee Carlson|  6|\n",
      "|      1205|      Lisa David|  6|\n",
      "|      1216|   James Jenkins|  6|\n",
      "|      1214| Charlene Murray|  6|\n",
      "|      1209|     David Poole|  6|\n",
      "|      2367|  Raja Marimuthu|  6|\n",
      "|       151|    Dinesh kumar|  6|\n",
      "+----------+----------------+---+\n",
      "only showing top 20 rows\n",
      "\n"
     ]
    }
   ],
   "source": [
    "final\\\n",
    "    .groupBy(\"patient_id\",\"fullname\")\\\n",
    "    .agg(count(col(\"event_id\")).alias(\"cnt\"))\\\n",
    "    .orderBy(col(\"cnt\").desc()).show()"
   ]
  }
 ],
 "metadata": {
  "kernelspec": {
   "display_name": "minio",
   "language": "python",
   "name": "python3"
  },
  "language_info": {
   "codemirror_mode": {
    "name": "ipython",
    "version": 3
   },
   "file_extension": ".py",
   "mimetype": "text/x-python",
   "name": "python",
   "nbconvert_exporter": "python",
   "pygments_lexer": "ipython3",
   "version": "3.11.8"
  }
 },
 "nbformat": 4,
 "nbformat_minor": 2
}
